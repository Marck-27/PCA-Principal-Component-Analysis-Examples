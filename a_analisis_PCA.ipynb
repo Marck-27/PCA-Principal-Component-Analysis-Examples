{
 "cells": [
  {
   "cell_type": "markdown",
   "metadata": {},
   "source": [
    "# Proyecto: Análisis de Componentes Principales (PCA)\n",
    "\n",
    "## Uno de los problemas al que nos enfrentamos al entrenar modelos de Machine Learning, es la alta dimensionalidad de los \"features\" (ie. una gran cantidad de variables por cada feature). Podemos resolver este problema al reducir la dimensionalidad de los features, lo cual se puede hacer mediante un análisis PCA.\n",
    "\n",
    "## El análisis PCA nos permite \"proyectar\" los features hacia un espacio de menor dimensión (el espacio de las componentes principales) que maximiza la varianza, en otras palabras, podemos explicar un alto porcentaje de la información original usando menos variables.\n",
    "\n",
    "### * En el presente código se muestra un ejemplo en donde se reconstruye el 99% de un dataset usando \"pocas\" componentes principales\n",
    "\n",
    "### * Importaremos la función `PCA` de la librería `SciKit Learn`"
   ]
  },
  {
   "cell_type": "markdown",
   "metadata": {},
   "source": [
    "Si el dataset esta determinado por las variables: $X = [X_{1}, X_{2}, \\cdots , X_{p}]$ , donde cada variable $[X_{i}]_{n \\times 1}$ es una columna (componente) de del dataset.\n",
    "\n",
    "El análisis de componentes principales (PCA) permite reducir la dimensión del dataset original $X$ de tal forma que se pueda explicar un alto porcentaje de la información de $X$ con el mínimo número de variables prosibles (ie. con las componentes principales).\n",
    "\n",
    "PCA reduce la dimensión de $X$ al aplicarle una transformación $W$ tal que $ X \\rightarrow Z = [ W \\cdot X^{T} ]^{T} $, donde $[W]_{k \\times p}$ (con $k<p$) es una matriz que lleva las $p$ variables del dataset original a un conjunto de $k$ componentes principales. Las columnas de $W$ corresponden a los eigenvectores de la matriz de covarianzas. "
   ]
  },
  {
   "cell_type": "code",
   "execution_count": 1,
   "metadata": {},
   "outputs": [],
   "source": [
    "import pandas as pd \n",
    "\n",
    "import numpy as np \n",
    "\n",
    "import seaborn as sns\n",
    "import matplotlib.pyplot as plt \n",
    "\n",
    "# importamos la función de PCA:\n",
    "from sklearn.decomposition import PCA \n",
    "\n",
    "# importamos función que estandariza los datos,\n",
    "# ie. resta la media y divide por la desviación estandar (columna por columna)\n",
    "from sklearn.preprocessing import StandardScaler"
   ]
  },
  {
   "cell_type": "code",
   "execution_count": 2,
   "metadata": {},
   "outputs": [],
   "source": [
    "# Cargamos dataset:\n",
    "df = pd.read_csv('./Data/Iris/iris.data',header=None)"
   ]
  },
  {
   "cell_type": "code",
   "execution_count": 3,
   "metadata": {},
   "outputs": [
    {
     "name": "stdout",
     "output_type": "stream",
     "text": [
      "<class 'pandas.core.frame.DataFrame'>\n",
      "RangeIndex: 150 entries, 0 to 149\n",
      "Data columns (total 5 columns):\n",
      " #   Column  Non-Null Count  Dtype  \n",
      "---  ------  --------------  -----  \n",
      " 0   0       150 non-null    float64\n",
      " 1   1       150 non-null    float64\n",
      " 2   2       150 non-null    float64\n",
      " 3   3       150 non-null    float64\n",
      " 4   4       150 non-null    object \n",
      "dtypes: float64(4), object(1)\n",
      "memory usage: 6.0+ KB\n"
     ]
    }
   ],
   "source": [
    "# Mostramos información general:\n",
    "df.info()"
   ]
  },
  {
   "cell_type": "code",
   "execution_count": 4,
   "metadata": {},
   "outputs": [
    {
     "data": {
      "text/html": [
       "<div>\n",
       "<style scoped>\n",
       "    .dataframe tbody tr th:only-of-type {\n",
       "        vertical-align: middle;\n",
       "    }\n",
       "\n",
       "    .dataframe tbody tr th {\n",
       "        vertical-align: top;\n",
       "    }\n",
       "\n",
       "    .dataframe thead th {\n",
       "        text-align: right;\n",
       "    }\n",
       "</style>\n",
       "<table border=\"1\" class=\"dataframe\">\n",
       "  <thead>\n",
       "    <tr style=\"text-align: right;\">\n",
       "      <th></th>\n",
       "      <th>0</th>\n",
       "      <th>1</th>\n",
       "      <th>2</th>\n",
       "      <th>3</th>\n",
       "      <th>4</th>\n",
       "    </tr>\n",
       "  </thead>\n",
       "  <tbody>\n",
       "    <tr>\n",
       "      <th>0</th>\n",
       "      <td>5.1</td>\n",
       "      <td>3.5</td>\n",
       "      <td>1.4</td>\n",
       "      <td>0.2</td>\n",
       "      <td>Iris-setosa</td>\n",
       "    </tr>\n",
       "    <tr>\n",
       "      <th>1</th>\n",
       "      <td>4.9</td>\n",
       "      <td>3.0</td>\n",
       "      <td>1.4</td>\n",
       "      <td>0.2</td>\n",
       "      <td>Iris-setosa</td>\n",
       "    </tr>\n",
       "    <tr>\n",
       "      <th>2</th>\n",
       "      <td>4.7</td>\n",
       "      <td>3.2</td>\n",
       "      <td>1.3</td>\n",
       "      <td>0.2</td>\n",
       "      <td>Iris-setosa</td>\n",
       "    </tr>\n",
       "    <tr>\n",
       "      <th>3</th>\n",
       "      <td>4.6</td>\n",
       "      <td>3.1</td>\n",
       "      <td>1.5</td>\n",
       "      <td>0.2</td>\n",
       "      <td>Iris-setosa</td>\n",
       "    </tr>\n",
       "    <tr>\n",
       "      <th>4</th>\n",
       "      <td>5.0</td>\n",
       "      <td>3.6</td>\n",
       "      <td>1.4</td>\n",
       "      <td>0.2</td>\n",
       "      <td>Iris-setosa</td>\n",
       "    </tr>\n",
       "  </tbody>\n",
       "</table>\n",
       "</div>"
      ],
      "text/plain": [
       "     0    1    2    3            4\n",
       "0  5.1  3.5  1.4  0.2  Iris-setosa\n",
       "1  4.9  3.0  1.4  0.2  Iris-setosa\n",
       "2  4.7  3.2  1.3  0.2  Iris-setosa\n",
       "3  4.6  3.1  1.5  0.2  Iris-setosa\n",
       "4  5.0  3.6  1.4  0.2  Iris-setosa"
      ]
     },
     "execution_count": 4,
     "metadata": {},
     "output_type": "execute_result"
    }
   ],
   "source": [
    "df.head() # <--- muestra los primeros 5 registros"
   ]
  },
  {
   "cell_type": "code",
   "execution_count": 5,
   "metadata": {},
   "outputs": [
    {
     "data": {
      "text/html": [
       "<div>\n",
       "<style scoped>\n",
       "    .dataframe tbody tr th:only-of-type {\n",
       "        vertical-align: middle;\n",
       "    }\n",
       "\n",
       "    .dataframe tbody tr th {\n",
       "        vertical-align: top;\n",
       "    }\n",
       "\n",
       "    .dataframe thead th {\n",
       "        text-align: right;\n",
       "    }\n",
       "</style>\n",
       "<table border=\"1\" class=\"dataframe\">\n",
       "  <thead>\n",
       "    <tr style=\"text-align: right;\">\n",
       "      <th></th>\n",
       "      <th>longitud_sepalo</th>\n",
       "      <th>ancho_sepalo</th>\n",
       "      <th>longitud_petalo</th>\n",
       "      <th>ancho_petalo</th>\n",
       "      <th>clase</th>\n",
       "    </tr>\n",
       "  </thead>\n",
       "  <tbody>\n",
       "    <tr>\n",
       "      <th>0</th>\n",
       "      <td>5.1</td>\n",
       "      <td>3.5</td>\n",
       "      <td>1.4</td>\n",
       "      <td>0.2</td>\n",
       "      <td>Iris-setosa</td>\n",
       "    </tr>\n",
       "    <tr>\n",
       "      <th>1</th>\n",
       "      <td>4.9</td>\n",
       "      <td>3.0</td>\n",
       "      <td>1.4</td>\n",
       "      <td>0.2</td>\n",
       "      <td>Iris-setosa</td>\n",
       "    </tr>\n",
       "    <tr>\n",
       "      <th>2</th>\n",
       "      <td>4.7</td>\n",
       "      <td>3.2</td>\n",
       "      <td>1.3</td>\n",
       "      <td>0.2</td>\n",
       "      <td>Iris-setosa</td>\n",
       "    </tr>\n",
       "    <tr>\n",
       "      <th>3</th>\n",
       "      <td>4.6</td>\n",
       "      <td>3.1</td>\n",
       "      <td>1.5</td>\n",
       "      <td>0.2</td>\n",
       "      <td>Iris-setosa</td>\n",
       "    </tr>\n",
       "    <tr>\n",
       "      <th>4</th>\n",
       "      <td>5.0</td>\n",
       "      <td>3.6</td>\n",
       "      <td>1.4</td>\n",
       "      <td>0.2</td>\n",
       "      <td>Iris-setosa</td>\n",
       "    </tr>\n",
       "  </tbody>\n",
       "</table>\n",
       "</div>"
      ],
      "text/plain": [
       "   longitud_sepalo  ancho_sepalo  longitud_petalo  ancho_petalo        clase\n",
       "0              5.1           3.5              1.4           0.2  Iris-setosa\n",
       "1              4.9           3.0              1.4           0.2  Iris-setosa\n",
       "2              4.7           3.2              1.3           0.2  Iris-setosa\n",
       "3              4.6           3.1              1.5           0.2  Iris-setosa\n",
       "4              5.0           3.6              1.4           0.2  Iris-setosa"
      ]
     },
     "execution_count": 5,
     "metadata": {},
     "output_type": "execute_result"
    }
   ],
   "source": [
    "# Asignamos nombre a las columnas del dataset\n",
    "nombres_col = ['longitud_sepalo','ancho_sepalo','longitud_petalo','ancho_petalo','clase']\n",
    "\n",
    "df.columns = nombres_col\n",
    "df.head() # <--- muestra los primeros 5 registros"
   ]
  },
  {
   "cell_type": "markdown",
   "metadata": {},
   "source": [
    "### En lo que sigue nos restringiremos a trabajar con las variables de contenido numérico"
   ]
  },
  {
   "cell_type": "code",
   "execution_count": 6,
   "metadata": {},
   "outputs": [],
   "source": [
    "# Nombre de las columnas con información numérica:\n",
    "num_cols = ['longitud_sepalo','ancho_sepalo','longitud_petalo','ancho_petalo']\n",
    "\n",
    "# Número de columnas con información numérica:\n",
    "nx_vars = len(num_cols)"
   ]
  },
  {
   "cell_type": "code",
   "execution_count": 7,
   "metadata": {},
   "outputs": [
    {
     "data": {
      "text/html": [
       "<div>\n",
       "<style scoped>\n",
       "    .dataframe tbody tr th:only-of-type {\n",
       "        vertical-align: middle;\n",
       "    }\n",
       "\n",
       "    .dataframe tbody tr th {\n",
       "        vertical-align: top;\n",
       "    }\n",
       "\n",
       "    .dataframe thead th {\n",
       "        text-align: right;\n",
       "    }\n",
       "</style>\n",
       "<table border=\"1\" class=\"dataframe\">\n",
       "  <thead>\n",
       "    <tr style=\"text-align: right;\">\n",
       "      <th></th>\n",
       "      <th>longitud_sepalo</th>\n",
       "      <th>ancho_sepalo</th>\n",
       "      <th>longitud_petalo</th>\n",
       "      <th>ancho_petalo</th>\n",
       "      <th>clase</th>\n",
       "    </tr>\n",
       "  </thead>\n",
       "  <tbody>\n",
       "    <tr>\n",
       "      <th>0</th>\n",
       "      <td>-0.900681</td>\n",
       "      <td>1.032057</td>\n",
       "      <td>-1.341272</td>\n",
       "      <td>-1.312977</td>\n",
       "      <td>Iris-setosa</td>\n",
       "    </tr>\n",
       "    <tr>\n",
       "      <th>1</th>\n",
       "      <td>-1.143017</td>\n",
       "      <td>-0.124958</td>\n",
       "      <td>-1.341272</td>\n",
       "      <td>-1.312977</td>\n",
       "      <td>Iris-setosa</td>\n",
       "    </tr>\n",
       "    <tr>\n",
       "      <th>2</th>\n",
       "      <td>-1.385353</td>\n",
       "      <td>0.337848</td>\n",
       "      <td>-1.398138</td>\n",
       "      <td>-1.312977</td>\n",
       "      <td>Iris-setosa</td>\n",
       "    </tr>\n",
       "    <tr>\n",
       "      <th>3</th>\n",
       "      <td>-1.506521</td>\n",
       "      <td>0.106445</td>\n",
       "      <td>-1.284407</td>\n",
       "      <td>-1.312977</td>\n",
       "      <td>Iris-setosa</td>\n",
       "    </tr>\n",
       "    <tr>\n",
       "      <th>4</th>\n",
       "      <td>-1.021849</td>\n",
       "      <td>1.263460</td>\n",
       "      <td>-1.341272</td>\n",
       "      <td>-1.312977</td>\n",
       "      <td>Iris-setosa</td>\n",
       "    </tr>\n",
       "  </tbody>\n",
       "</table>\n",
       "</div>"
      ],
      "text/plain": [
       "   longitud_sepalo  ancho_sepalo  longitud_petalo  ancho_petalo        clase\n",
       "0        -0.900681      1.032057        -1.341272     -1.312977  Iris-setosa\n",
       "1        -1.143017     -0.124958        -1.341272     -1.312977  Iris-setosa\n",
       "2        -1.385353      0.337848        -1.398138     -1.312977  Iris-setosa\n",
       "3        -1.506521      0.106445        -1.284407     -1.312977  Iris-setosa\n",
       "4        -1.021849      1.263460        -1.341272     -1.312977  Iris-setosa"
      ]
     },
     "execution_count": 7,
     "metadata": {},
     "output_type": "execute_result"
    }
   ],
   "source": [
    "# Estandarizamos las variables del dataset original\n",
    "\n",
    "# Declaramos la función que estandariza un dataframe (columna por columna):\n",
    "ss = StandardScaler()\n",
    "\n",
    "# Aplicamos el estandarizador a las columnas de información numérica:\n",
    "df[num_cols]  = ss.fit_transform( df[num_cols]  )\n",
    "df.head() # <--- muestra los primeros 5 registros"
   ]
  },
  {
   "cell_type": "code",
   "execution_count": 8,
   "metadata": {},
   "outputs": [
    {
     "data": {
      "text/plain": [
       "PCA(n_components=0.99)"
      ]
     },
     "execution_count": 8,
     "metadata": {},
     "output_type": "execute_result"
    }
   ],
   "source": [
    "# Aplicamos PCA a los datos normalizados, para obtener las componentes principales:\n",
    "\n",
    "# porcentaje de información a explicar con menos variables:\n",
    "p_datos = 0.99 # 4\n",
    "# OBSERVACIÓN: \n",
    "# * Si \"p_datos\" es un numero entre 0 y 1, este indicará porcentaje de información\n",
    "# * Si \"p_datos\" es un numero entero, este indicará número de componentes principales\n",
    "\n",
    "# Declaramos la función PCA:\n",
    "pca_meth = PCA( n_components=p_datos )\n",
    "\n",
    "# Aplicamos PCA a los datos numéricos\n",
    "pca_meth.fit( df[num_cols] )"
   ]
  },
  {
   "cell_type": "code",
   "execution_count": 9,
   "metadata": {},
   "outputs": [
    {
     "name": "stdout",
     "output_type": "stream",
     "text": [
      "Para preservar el 99.0 % de la infromación sólo se requieren 3 componentes principales\n"
     ]
    }
   ],
   "source": [
    "# Extraemos número de componentes principales que explican el porcentaje de los datos:\n",
    "nc_pca = pca_meth.n_components_\n",
    "\n",
    "print('Para preservar el',p_datos*100,'% de la infromación sólo se requieren',nc_pca,'componentes principales')"
   ]
  },
  {
   "cell_type": "markdown",
   "metadata": {},
   "source": [
    "### ¡Se requieren 3 componentes principales para explicar el 99% de los datos!"
   ]
  },
  {
   "cell_type": "code",
   "execution_count": 10,
   "metadata": {},
   "outputs": [
    {
     "data": {
      "text/plain": [
       "['PCA1', 'PCA2', 'PCA3']"
      ]
     },
     "execution_count": 10,
     "metadata": {},
     "output_type": "execute_result"
    }
   ],
   "source": [
    "# Asignamos nombre a las componetes principales:\n",
    "name_pca = []\n",
    "for i in range(nc_pca):\n",
    "    name_pca.append('PCA'+str(i+1))\n",
    "name_pca"
   ]
  },
  {
   "cell_type": "code",
   "execution_count": 11,
   "metadata": {},
   "outputs": [
    {
     "data": {
      "text/plain": [
       "array([[ 0.52237162, -0.26335492,  0.58125401,  0.56561105],\n",
       "       [ 0.37231836,  0.92555649,  0.02109478,  0.06541577],\n",
       "       [-0.72101681,  0.24203288,  0.14089226,  0.6338014 ]])"
      ]
     },
     "execution_count": 11,
     "metadata": {},
     "output_type": "execute_result"
    }
   ],
   "source": [
    "# Extraemos las componentes de la transformación [W] (de k x p) que lleva el dataset original\n",
    "# de \"p\" variables a un dataset reducido de \"k\" componentes principales (con k < p). \n",
    "\n",
    "W = pca_meth.components_\n",
    "W"
   ]
  },
  {
   "cell_type": "code",
   "execution_count": 12,
   "metadata": {},
   "outputs": [
    {
     "data": {
      "image/png": "[encoded data removed]",
      "text/plain": [
       "<Figure size 432x288 with 1 Axes>"
      ]
     },
     "metadata": {
      "needs_background": "light"
     },
     "output_type": "display_data"
    }
   ],
   "source": [
    "\n",
    "plt.imshow(W, cmap='viridis', aspect='auto')\n",
    "plt.yticks( range( W.shape[0] ), name_pca)\n",
    "plt.xticks( range( W.shape[1] ), df[num_cols].columns)\n",
    "plt.title('Valores de la transformación para componentes principales')\n",
    "\n",
    "plt.show()"
   ]
  },
  {
   "cell_type": "markdown",
   "metadata": {},
   "source": [
    "### La matriz anterior indica el peso que tiene cada componete principal con respecto a las componentes originales\n",
    "### de aquí podemos identificar las variables con más peso en el dataset. "
   ]
  },
  {
   "cell_type": "code",
   "execution_count": 13,
   "metadata": {},
   "outputs": [
    {
     "data": {
      "text/html": [
       "<div>\n",
       "<style scoped>\n",
       "    .dataframe tbody tr th:only-of-type {\n",
       "        vertical-align: middle;\n",
       "    }\n",
       "\n",
       "    .dataframe tbody tr th {\n",
       "        vertical-align: top;\n",
       "    }\n",
       "\n",
       "    .dataframe thead th {\n",
       "        text-align: right;\n",
       "    }\n",
       "</style>\n",
       "<table border=\"1\" class=\"dataframe\">\n",
       "  <thead>\n",
       "    <tr style=\"text-align: right;\">\n",
       "      <th></th>\n",
       "      <th>PCA1</th>\n",
       "      <th>PCA2</th>\n",
       "      <th>PCA3</th>\n",
       "    </tr>\n",
       "  </thead>\n",
       "  <tbody>\n",
       "    <tr>\n",
       "      <th>0</th>\n",
       "      <td>-2.264542</td>\n",
       "      <td>0.505704</td>\n",
       "      <td>-0.121943</td>\n",
       "    </tr>\n",
       "    <tr>\n",
       "      <th>1</th>\n",
       "      <td>-2.086426</td>\n",
       "      <td>-0.655405</td>\n",
       "      <td>-0.227251</td>\n",
       "    </tr>\n",
       "    <tr>\n",
       "      <th>2</th>\n",
       "      <td>-2.367950</td>\n",
       "      <td>-0.318477</td>\n",
       "      <td>0.051480</td>\n",
       "    </tr>\n",
       "    <tr>\n",
       "      <th>3</th>\n",
       "      <td>-2.304197</td>\n",
       "      <td>-0.575368</td>\n",
       "      <td>0.098860</td>\n",
       "    </tr>\n",
       "    <tr>\n",
       "      <th>4</th>\n",
       "      <td>-2.388777</td>\n",
       "      <td>0.674767</td>\n",
       "      <td>0.021428</td>\n",
       "    </tr>\n",
       "  </tbody>\n",
       "</table>\n",
       "</div>"
      ],
      "text/plain": [
       "       PCA1      PCA2      PCA3\n",
       "0 -2.264542  0.505704 -0.121943\n",
       "1 -2.086426 -0.655405 -0.227251\n",
       "2 -2.367950 -0.318477  0.051480\n",
       "3 -2.304197 -0.575368  0.098860\n",
       "4 -2.388777  0.674767  0.021428"
      ]
     },
     "execution_count": 13,
     "metadata": {},
     "output_type": "execute_result"
    }
   ],
   "source": [
    "# Tranfomramos los datos originales al espacio de componentes principales:\n",
    "Z = pca_meth.transform( df[num_cols] )\n",
    "\n",
    "# Dado que la salida es un arreglo de \"numpy\", ahora la transformamos a un \"dataframe\":\n",
    "Z = pd.DataFrame(Z , columns = name_pca)\n",
    "Z.head()"
   ]
  },
  {
   "cell_type": "code",
   "execution_count": 22,
   "metadata": {},
   "outputs": [
    {
     "data": {
      "text/plain": [
       "(150, 3)"
      ]
     },
     "execution_count": 22,
     "metadata": {},
     "output_type": "execute_result"
    }
   ],
   "source": [
    "# Dimensión de registros en el espacio de componentes principales:\n",
    "Z.shape"
   ]
  },
  {
   "cell_type": "code",
   "execution_count": 23,
   "metadata": {},
   "outputs": [
    {
     "data": {
      "text/plain": [
       "(150, 4)"
      ]
     },
     "execution_count": 23,
     "metadata": {},
     "output_type": "execute_result"
    }
   ],
   "source": [
    "# Dimensión de registros en el espacio original:\n",
    "df[num_cols].shape"
   ]
  },
  {
   "cell_type": "code",
   "execution_count": 14,
   "metadata": {},
   "outputs": [
    {
     "data": {
      "text/html": [
       "<div>\n",
       "<style scoped>\n",
       "    .dataframe tbody tr th:only-of-type {\n",
       "        vertical-align: middle;\n",
       "    }\n",
       "\n",
       "    .dataframe tbody tr th {\n",
       "        vertical-align: top;\n",
       "    }\n",
       "\n",
       "    .dataframe thead th {\n",
       "        text-align: right;\n",
       "    }\n",
       "</style>\n",
       "<table border=\"1\" class=\"dataframe\">\n",
       "  <thead>\n",
       "    <tr style=\"text-align: right;\">\n",
       "      <th></th>\n",
       "      <th>0</th>\n",
       "      <th>1</th>\n",
       "      <th>2</th>\n",
       "    </tr>\n",
       "  </thead>\n",
       "  <tbody>\n",
       "    <tr>\n",
       "      <th>0</th>\n",
       "      <td>-2.264542</td>\n",
       "      <td>0.505704</td>\n",
       "      <td>-0.121943</td>\n",
       "    </tr>\n",
       "    <tr>\n",
       "      <th>1</th>\n",
       "      <td>-2.086426</td>\n",
       "      <td>-0.655405</td>\n",
       "      <td>-0.227251</td>\n",
       "    </tr>\n",
       "    <tr>\n",
       "      <th>2</th>\n",
       "      <td>-2.367950</td>\n",
       "      <td>-0.318477</td>\n",
       "      <td>0.051480</td>\n",
       "    </tr>\n",
       "    <tr>\n",
       "      <th>3</th>\n",
       "      <td>-2.304197</td>\n",
       "      <td>-0.575368</td>\n",
       "      <td>0.098860</td>\n",
       "    </tr>\n",
       "    <tr>\n",
       "      <th>4</th>\n",
       "      <td>-2.388777</td>\n",
       "      <td>0.674767</td>\n",
       "      <td>0.021428</td>\n",
       "    </tr>\n",
       "  </tbody>\n",
       "</table>\n",
       "</div>"
      ],
      "text/plain": [
       "          0         1         2\n",
       "0 -2.264542  0.505704 -0.121943\n",
       "1 -2.086426 -0.655405 -0.227251\n",
       "2 -2.367950 -0.318477  0.051480\n",
       "3 -2.304197 -0.575368  0.098860\n",
       "4 -2.388777  0.674767  0.021428"
      ]
     },
     "execution_count": 14,
     "metadata": {},
     "output_type": "execute_result"
    }
   ],
   "source": [
    "### OBSERVACIÓN: La transformación de los datos originales al espacio de componente principales \n",
    "### también se puede obtener mediante: Z = ( W*X' )'\n",
    "\n",
    "z2 =  (np.dot(W , df[num_cols].T)).T\n",
    "z2 = pd.DataFrame(z2)\n",
    "z2.head()"
   ]
  },
  {
   "cell_type": "markdown",
   "metadata": {},
   "source": [
    "### Obs: Podemos usar los datos en el espacio de componentes principales (menos variables que explican un alto porcentaje de los datos originales) como Features para entrenar modelos de Machine Learning "
   ]
  },
  {
   "cell_type": "code",
   "execution_count": 15,
   "metadata": {},
   "outputs": [
    {
     "data": {
      "image/png": "[encoded data removed]",
      "text/plain": [
       "<Figure size 432x288 with 1 Axes>"
      ]
     },
     "metadata": {},
     "output_type": "display_data"
    }
   ],
   "source": [
    "# Graficamos la proyección de las variables en el espacio de componentes principales\n",
    "sns.set(style = \"darkgrid\")\n",
    "\n",
    "fig = plt.figure()\n",
    "ax = fig.add_subplot(111, projection = '3d')\n",
    "\n",
    "pca1 = Z[name_pca[0]]\n",
    "pca2 = Z[name_pca[1]]\n",
    "pca3 = Z[name_pca[2]]\n",
    "\n",
    "ax.set_xlabel(name_pca[0])\n",
    "ax.set_ylabel(name_pca[1])\n",
    "ax.set_zlabel(name_pca[2])\n",
    "\n",
    "ax.scatter(pca1, pca2, pca3 )\n",
    "\n",
    "plt.title('Proyección de datos en las componentes principales')\n",
    "plt.show()"
   ]
  },
  {
   "cell_type": "markdown",
   "metadata": {},
   "source": [
    "# Comprobación de los resultados del análisis de componentes principales.\n",
    "\n",
    "### Anteriormente vimos que: se requieren 3 componentes principales para explicar el 99% de los datos"
   ]
  },
  {
   "cell_type": "code",
   "execution_count": 16,
   "metadata": {},
   "outputs": [
    {
     "name": "stdout",
     "output_type": "stream",
     "text": [
      "\n",
      "Varianza total del dataset original: 4.026845637583893\n",
      "\n",
      "Varianza de cada componente principal:\n",
      "PCA1    2.930354\n",
      "PCA2    0.927404\n",
      "PCA3    0.148342\n",
      "dtype: float64\n",
      "\n",
      "Proporción de varianza explicada por cada componente principal:\n",
      "PCA1    0.727705\n",
      "PCA2    0.230305\n",
      "PCA3    0.036838\n",
      "dtype: float64\n",
      "\n",
      "Varianza acumulada desde la primer hasta la última componete principal:\n",
      "PCA1    0.727705\n",
      "PCA2    0.958010\n",
      "PCA3    0.994848\n",
      "dtype: float64\n"
     ]
    }
   ],
   "source": [
    "# Analizamos las proporciones de varianza explicada:\n",
    "\n",
    "# Varianza total del dataset original\n",
    "var_X = df.var().sum()\n",
    "print('\\nVarianza total del dataset original:',var_X)\n",
    "\n",
    "# Varianza de cada componente principal:\n",
    "Var_pca_i = Z.var()\n",
    "print('\\nVarianza de cada componente principal:')\n",
    "print(Var_pca_i)\n",
    "\n",
    "# Proporción de varianza explicada por cada componente principal:\n",
    "expl_Var = Var_pca_i/var_X\n",
    "print('\\nProporción de varianza explicada por cada componente principal:')\n",
    "print(expl_Var)\n",
    "\n",
    "# Varianza acumulada en cada componente principal:\n",
    "cumul_Var = expl_Var.cumsum()\n",
    "print('\\nVarianza acumulada desde la primer hasta la última componete principal:')\n",
    "print(cumul_Var)"
   ]
  },
  {
   "cell_type": "code",
   "execution_count": 17,
   "metadata": {},
   "outputs": [
    {
     "data": {
      "image/png": "[encoded data removed]",
      "text/plain": [
       "<Figure size 432x288 with 1 Axes>"
      ]
     },
     "metadata": {},
     "output_type": "display_data"
    }
   ],
   "source": [
    "# Graficamos porcentaje de varianza explicada por cada componente principal\n",
    "sns.barplot(x=name_pca, y=expl_Var)\n",
    "plt.xlabel('Componente principal')\n",
    "plt.ylabel('Varianza explicada')\n",
    "plt.title('porcentaje de varianza explicada por cada componente')\n",
    "plt.show()"
   ]
  },
  {
   "cell_type": "code",
   "execution_count": 18,
   "metadata": {},
   "outputs": [
    {
     "data": {
      "image/png": "[encoded data removed]",
      "text/plain": [
       "<Figure size 432x288 with 1 Axes>"
      ]
     },
     "metadata": {},
     "output_type": "display_data"
    }
   ],
   "source": [
    "# Graficamos porcentaje de varianza acumulada por cada componente principal\n",
    "#sns.barplot(x=name_pca, y=cumul_Var)\n",
    "plt.plot(cumul_Var,'o-')\n",
    "plt.grid()\n",
    "plt.xlabel('Componente principal')\n",
    "plt.ylabel('Varianza acumulada')\n",
    "plt.title('porcentaje de varianza acumulada por cada componente')\n",
    "plt.show()"
   ]
  },
  {
   "cell_type": "markdown",
   "metadata": {},
   "source": [
    "### Del análisis de componentes principales podemos concluir que, en efecto,\n",
    "### ¡Se requieren 3 componentes principales para explicar el 99% de los datos!"
   ]
  },
  {
   "cell_type": "markdown",
   "metadata": {},
   "source": [
    "# A continuación aplicamos transformación inversa para reconstruir un porcentaje del dataset original a partir de las pocas componentes principales "
   ]
  },
  {
   "cell_type": "code",
   "execution_count": 19,
   "metadata": {},
   "outputs": [
    {
     "data": {
      "text/html": [
       "<div>\n",
       "<style scoped>\n",
       "    .dataframe tbody tr th:only-of-type {\n",
       "        vertical-align: middle;\n",
       "    }\n",
       "\n",
       "    .dataframe tbody tr th {\n",
       "        vertical-align: top;\n",
       "    }\n",
       "\n",
       "    .dataframe thead th {\n",
       "        text-align: right;\n",
       "    }\n",
       "</style>\n",
       "<table border=\"1\" class=\"dataframe\">\n",
       "  <thead>\n",
       "    <tr style=\"text-align: right;\">\n",
       "      <th></th>\n",
       "      <th>longitud_sepalo</th>\n",
       "      <th>ancho_sepalo</th>\n",
       "      <th>longitud_petalo</th>\n",
       "      <th>ancho_petalo</th>\n",
       "    </tr>\n",
       "  </thead>\n",
       "  <tbody>\n",
       "    <tr>\n",
       "      <th>0</th>\n",
       "      <td>-0.906726</td>\n",
       "      <td>1.034921</td>\n",
       "      <td>-1.322787</td>\n",
       "      <td>-1.325057</td>\n",
       "    </tr>\n",
       "    <tr>\n",
       "      <th>1</th>\n",
       "      <td>-1.170057</td>\n",
       "      <td>-0.112146</td>\n",
       "      <td>-1.258587</td>\n",
       "      <td>-1.367011</td>\n",
       "    </tr>\n",
       "    <tr>\n",
       "      <th>2</th>\n",
       "      <td>-1.392643</td>\n",
       "      <td>0.341302</td>\n",
       "      <td>-1.375846</td>\n",
       "      <td>-1.327545</td>\n",
       "    </tr>\n",
       "    <tr>\n",
       "      <th>3</th>\n",
       "      <td>-1.489147</td>\n",
       "      <td>0.098214</td>\n",
       "      <td>-1.337532</td>\n",
       "      <td>-1.278260</td>\n",
       "    </tr>\n",
       "    <tr>\n",
       "      <th>4</th>\n",
       "      <td>-1.012051</td>\n",
       "      <td>1.258818</td>\n",
       "      <td>-1.371233</td>\n",
       "      <td>-1.293398</td>\n",
       "    </tr>\n",
       "  </tbody>\n",
       "</table>\n",
       "</div>"
      ],
      "text/plain": [
       "   longitud_sepalo  ancho_sepalo  longitud_petalo  ancho_petalo\n",
       "0        -0.906726      1.034921        -1.322787     -1.325057\n",
       "1        -1.170057     -0.112146        -1.258587     -1.367011\n",
       "2        -1.392643      0.341302        -1.375846     -1.327545\n",
       "3        -1.489147      0.098214        -1.337532     -1.278260\n",
       "4        -1.012051      1.258818        -1.371233     -1.293398"
      ]
     },
     "execution_count": 19,
     "metadata": {},
     "output_type": "execute_result"
    }
   ],
   "source": [
    "# Aplicamos transformación inversa para ir del espacio de componentes principales al espacio de datos originales:\n",
    "\n",
    "X_recostruc = pca_meth.inverse_transform(Z)\n",
    "X_recostruc = pd.DataFrame(X_recostruc ,columns= num_cols)\n",
    "X_recostruc.head()"
   ]
  },
  {
   "cell_type": "code",
   "execution_count": 20,
   "metadata": {},
   "outputs": [
    {
     "data": {
      "text/html": [
       "<div>\n",
       "<style scoped>\n",
       "    .dataframe tbody tr th:only-of-type {\n",
       "        vertical-align: middle;\n",
       "    }\n",
       "\n",
       "    .dataframe tbody tr th {\n",
       "        vertical-align: top;\n",
       "    }\n",
       "\n",
       "    .dataframe thead th {\n",
       "        text-align: right;\n",
       "    }\n",
       "</style>\n",
       "<table border=\"1\" class=\"dataframe\">\n",
       "  <thead>\n",
       "    <tr style=\"text-align: right;\">\n",
       "      <th></th>\n",
       "      <th>0</th>\n",
       "      <th>1</th>\n",
       "      <th>2</th>\n",
       "      <th>3</th>\n",
       "    </tr>\n",
       "  </thead>\n",
       "  <tbody>\n",
       "    <tr>\n",
       "      <th>0</th>\n",
       "      <td>-0.906726</td>\n",
       "      <td>1.034921</td>\n",
       "      <td>-1.322787</td>\n",
       "      <td>-1.325057</td>\n",
       "    </tr>\n",
       "    <tr>\n",
       "      <th>1</th>\n",
       "      <td>-1.170057</td>\n",
       "      <td>-0.112146</td>\n",
       "      <td>-1.258587</td>\n",
       "      <td>-1.367011</td>\n",
       "    </tr>\n",
       "    <tr>\n",
       "      <th>2</th>\n",
       "      <td>-1.392643</td>\n",
       "      <td>0.341302</td>\n",
       "      <td>-1.375846</td>\n",
       "      <td>-1.327545</td>\n",
       "    </tr>\n",
       "    <tr>\n",
       "      <th>3</th>\n",
       "      <td>-1.489147</td>\n",
       "      <td>0.098214</td>\n",
       "      <td>-1.337532</td>\n",
       "      <td>-1.278260</td>\n",
       "    </tr>\n",
       "    <tr>\n",
       "      <th>4</th>\n",
       "      <td>-1.012051</td>\n",
       "      <td>1.258818</td>\n",
       "      <td>-1.371233</td>\n",
       "      <td>-1.293398</td>\n",
       "    </tr>\n",
       "  </tbody>\n",
       "</table>\n",
       "</div>"
      ],
      "text/plain": [
       "          0         1         2         3\n",
       "0 -0.906726  1.034921 -1.322787 -1.325057\n",
       "1 -1.170057 -0.112146 -1.258587 -1.367011\n",
       "2 -1.392643  0.341302 -1.375846 -1.327545\n",
       "3 -1.489147  0.098214 -1.337532 -1.278260\n",
       "4 -1.012051  1.258818 -1.371233 -1.293398"
      ]
     },
     "execution_count": 20,
     "metadata": {},
     "output_type": "execute_result"
    }
   ],
   "source": [
    "# OBSERVACIÓN: La transformación inversa\n",
    "# también se puede obtener mediante: X = ( inv(W)*Z' )'\n",
    "\n",
    "W_inv = np.linalg.pinv(W)# como W no necesariamente es cuadrada, usamos la pseudoinversa de Moore-Penrose \"pinv\"\n",
    "\n",
    "X_recostruc2 =  (np.dot(W_inv , Z.T)).T\n",
    "X_recostruc2 = pd.DataFrame(X_recostruc2)\n",
    "X_recostruc2.head()"
   ]
  },
  {
   "cell_type": "code",
   "execution_count": 21,
   "metadata": {},
   "outputs": [
    {
     "data": {
      "text/html": [
       "<div>\n",
       "<style scoped>\n",
       "    .dataframe tbody tr th:only-of-type {\n",
       "        vertical-align: middle;\n",
       "    }\n",
       "\n",
       "    .dataframe tbody tr th {\n",
       "        vertical-align: top;\n",
       "    }\n",
       "\n",
       "    .dataframe thead th {\n",
       "        text-align: right;\n",
       "    }\n",
       "</style>\n",
       "<table border=\"1\" class=\"dataframe\">\n",
       "  <thead>\n",
       "    <tr style=\"text-align: right;\">\n",
       "      <th></th>\n",
       "      <th>longitud_sepalo</th>\n",
       "      <th>ancho_sepalo</th>\n",
       "      <th>longitud_petalo</th>\n",
       "      <th>ancho_petalo</th>\n",
       "      <th>clase</th>\n",
       "    </tr>\n",
       "  </thead>\n",
       "  <tbody>\n",
       "    <tr>\n",
       "      <th>0</th>\n",
       "      <td>-0.900681</td>\n",
       "      <td>1.032057</td>\n",
       "      <td>-1.341272</td>\n",
       "      <td>-1.312977</td>\n",
       "      <td>Iris-setosa</td>\n",
       "    </tr>\n",
       "    <tr>\n",
       "      <th>1</th>\n",
       "      <td>-1.143017</td>\n",
       "      <td>-0.124958</td>\n",
       "      <td>-1.341272</td>\n",
       "      <td>-1.312977</td>\n",
       "      <td>Iris-setosa</td>\n",
       "    </tr>\n",
       "    <tr>\n",
       "      <th>2</th>\n",
       "      <td>-1.385353</td>\n",
       "      <td>0.337848</td>\n",
       "      <td>-1.398138</td>\n",
       "      <td>-1.312977</td>\n",
       "      <td>Iris-setosa</td>\n",
       "    </tr>\n",
       "    <tr>\n",
       "      <th>3</th>\n",
       "      <td>-1.506521</td>\n",
       "      <td>0.106445</td>\n",
       "      <td>-1.284407</td>\n",
       "      <td>-1.312977</td>\n",
       "      <td>Iris-setosa</td>\n",
       "    </tr>\n",
       "    <tr>\n",
       "      <th>4</th>\n",
       "      <td>-1.021849</td>\n",
       "      <td>1.263460</td>\n",
       "      <td>-1.341272</td>\n",
       "      <td>-1.312977</td>\n",
       "      <td>Iris-setosa</td>\n",
       "    </tr>\n",
       "  </tbody>\n",
       "</table>\n",
       "</div>"
      ],
      "text/plain": [
       "   longitud_sepalo  ancho_sepalo  longitud_petalo  ancho_petalo        clase\n",
       "0        -0.900681      1.032057        -1.341272     -1.312977  Iris-setosa\n",
       "1        -1.143017     -0.124958        -1.341272     -1.312977  Iris-setosa\n",
       "2        -1.385353      0.337848        -1.398138     -1.312977  Iris-setosa\n",
       "3        -1.506521      0.106445        -1.284407     -1.312977  Iris-setosa\n",
       "4        -1.021849      1.263460        -1.341272     -1.312977  Iris-setosa"
      ]
     },
     "execution_count": 21,
     "metadata": {},
     "output_type": "execute_result"
    }
   ],
   "source": [
    "# Dataset original:\n",
    "df.head()"
   ]
  },
  {
   "cell_type": "markdown",
   "metadata": {},
   "source": [
    "### Para desestandarizar los datos, debemos multiplicar por la desviación estandar y sumar la media correspondientemente en cada columna"
   ]
  }
 ],
 "metadata": {
  "interpreter": {
   "hash": "916dbcbb3f70747c44a77c7bcd40155683ae19c65e1c03b4aa3499c5328201f1"
  },
  "kernelspec": {
   "display_name": "Python 3.8.10 64-bit",
   "name": "python3"
  },
  "language_info": {
   "codemirror_mode": {
    "name": "ipython",
    "version": 3
   },
   "file_extension": ".py",
   "mimetype": "text/x-python",
   "name": "python",
   "nbconvert_exporter": "python",
   "pygments_lexer": "ipython3",
   "version": "3.8.10"
  },
  "orig_nbformat": 2
 },
 "nbformat": 4,
 "nbformat_minor": 2
}
